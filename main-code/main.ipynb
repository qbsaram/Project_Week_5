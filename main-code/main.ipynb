{
 "metadata": {
  "language_info": {
   "codemirror_mode": {
    "name": "ipython",
    "version": 3
   },
   "file_extension": ".py",
   "mimetype": "text/x-python",
   "name": "python",
   "nbconvert_exporter": "python",
   "pygments_lexer": "ipython3",
   "version": "3.8.8"
  },
  "orig_nbformat": 4,
  "kernelspec": {
   "name": "python3",
   "display_name": "Python 3.8.8 64-bit ('base': conda)"
  },
  "interpreter": {
   "hash": "05b3b62c7789db94d00c942f2499dd9a2876ea971fd9b7cf25c50892de6c631c"
  }
 },
 "nbformat": 4,
 "nbformat_minor": 2,
 "cells": [
  {
   "source": [
    "## Importing libraries"
   ],
   "cell_type": "markdown",
   "metadata": {}
  },
  {
   "cell_type": "code",
   "execution_count": 95,
   "metadata": {},
   "outputs": [],
   "source": [
    "from api_key import api_key\n",
    "from apiclient.discovery import build\n",
    "import json\n",
    "import pickle\n",
    "from functions import *\n",
    "import pandas as pd\n",
    "import re\n",
    "import isodate"
   ]
  },
  {
   "source": [
    "-----------------"
   ],
   "cell_type": "markdown",
   "metadata": {}
  },
  {
   "source": [
    "## Creating access to Youtube API and getting video IDs"
   ],
   "cell_type": "markdown",
   "metadata": {}
  },
  {
   "cell_type": "code",
   "execution_count": null,
   "metadata": {},
   "outputs": [],
   "source": [
    "# To save a file\n",
    "#filename = open('../data/data.pkl','w') # 'w' mean write mode\n",
    "#pickle.dump(variable,filename)\n",
    "\n",
    "filename = open('file.pckle','r') # 'r' means read mode\n",
    "data = pickle.load(filename)\n",
    "\n",
    "found = True\n",
    "try:\n",
    "    filename = open('../data/data.pickle','r')\n",
    "    data = pickle.load(filename)\n",
    "except:\n",
    "    print(\"File does not exists in the folder\")\n",
    "    found = False\n",
    "\n",
    "\n",
    "if ( found == False ):\n",
    "    make_api_calls_to_get_data\n",
    "    dfgdf\n",
    "\n"
   ]
  },
  {
   "cell_type": "code",
   "execution_count": 2,
   "metadata": {},
   "outputs": [],
   "source": [
    "#getting the uploads id to access all videos on the channel\n",
    "#in functions file -->  get_all_videos\n",
    "res = youtube.channels().list(id=\"UC8butISFwT-Wl7EV0hUK0BQ\", part=\"contentDetails\").execute()"
   ]
  },
  {
   "cell_type": "code",
   "execution_count": 3,
   "metadata": {},
   "outputs": [
    {
     "output_type": "execute_result",
     "data": {
      "text/plain": [
       "'UU8butISFwT-Wl7EV0hUK0BQ'"
      ]
     },
     "metadata": {},
     "execution_count": 3
    }
   ],
   "source": [
    "#saving the uploads id in a variable\n",
    "#in function file --> get_all_videos\n",
    "uploads_id = res[\"items\"][0][\"contentDetails\"][\"relatedPlaylists\"][\"uploads\"]\n",
    "uploads_id"
   ]
  },
  {
   "cell_type": "code",
   "execution_count": 4,
   "metadata": {},
   "outputs": [],
   "source": [
    "#pagetoken id is necessary to access the next page if the results are more than 50\n",
    "pagetoken_id = youtube.playlistItems().list(playlistId=uploads_id, part=\"snippet\", maxResults=50).execute()"
   ]
  },
  {
   "cell_type": "code",
   "execution_count": 5,
   "metadata": {},
   "outputs": [
    {
     "output_type": "execute_result",
     "data": {
      "text/plain": [
       "'CBkQAA'"
      ]
     },
     "metadata": {},
     "execution_count": 5
    }
   ],
   "source": [
    "#in function file --> get_all_videos\n",
    "pagetoken_id[\"nextPageToken\"]"
   ]
  },
  {
   "source": [
    "---------------------"
   ],
   "cell_type": "markdown",
   "metadata": {}
  },
  {
   "source": [
    "## Getting video information"
   ],
   "cell_type": "markdown",
   "metadata": {}
  },
  {
   "cell_type": "code",
   "execution_count": null,
   "metadata": {},
   "outputs": [],
   "source": [
    "#function to get all videos in functions file"
   ]
  },
  {
   "cell_type": "code",
   "execution_count": 7,
   "metadata": {},
   "outputs": [],
   "source": [
    "#getting all the videos from the channel via the function\n",
    "videos = get_all_videos(\"UC8butISFwT-Wl7EV0hUK0BQ\")"
   ]
  },
  {
   "cell_type": "code",
   "execution_count": null,
   "metadata": {},
   "outputs": [],
   "source": [
    "#function to get video information by video id in functions file"
   ]
  },
  {
   "cell_type": "code",
   "execution_count": 10,
   "metadata": {},
   "outputs": [],
   "source": [
    "#path to video id in channel json\n",
    "video_id = videos[0][\"snippet\"][\"resourceId\"][\"videoId\"]"
   ]
  },
  {
   "cell_type": "code",
   "execution_count": 12,
   "metadata": {},
   "outputs": [],
   "source": [
    "#getting video information for one video via id by using the function\n",
    "video_information = get_video_information(video_id)"
   ]
  },
  {
   "cell_type": "code",
   "execution_count": 16,
   "metadata": {},
   "outputs": [],
   "source": [
    "# getting the information of all videos and saving them in a list\n",
    "all_videos_information = []\n",
    "for video in range(len(videos)):\n",
    "    video_id = videos[video][\"snippet\"][\"resourceId\"][\"videoId\"]\n",
    "    video_information = get_video_information(video_id)\n",
    "    all_videos_information.append(video_information)"
   ]
  },
  {
   "cell_type": "code",
   "execution_count": 19,
   "metadata": {},
   "outputs": [
    {
     "output_type": "execute_result",
     "data": {
      "text/plain": [
       "{'viewCount': '9503',\n",
       " 'likeCount': '691',\n",
       " 'dislikeCount': '12',\n",
       " 'favoriteCount': '0',\n",
       " 'commentCount': '53'}"
      ]
     },
     "metadata": {},
     "execution_count": 19
    }
   ],
   "source": [
    "#statistics part of one video from json\n",
    "all_videos_information[0][\"items\"][0][\"statistics\"]"
   ]
  },
  {
   "cell_type": "code",
   "execution_count": 20,
   "metadata": {},
   "outputs": [
    {
     "output_type": "execute_result",
     "data": {
      "text/plain": [
       "'2021-07-07T13:00:17Z'"
      ]
     },
     "metadata": {},
     "execution_count": 20
    }
   ],
   "source": [
    "#publiation date of one video\n",
    "all_videos_information[0][\"items\"][0][\"snippet\"][\"publishedAt\"]"
   ]
  },
  {
   "cell_type": "code",
   "execution_count": 21,
   "metadata": {},
   "outputs": [
    {
     "output_type": "execute_result",
     "data": {
      "text/plain": [
       "'What is Binary Search?'"
      ]
     },
     "metadata": {},
     "execution_count": 21
    }
   ],
   "source": [
    "#title from one video\n",
    "all_videos_information[0][\"items\"][0][\"snippet\"][\"title\"]"
   ]
  },
  {
   "cell_type": "code",
   "execution_count": 22,
   "metadata": {},
   "outputs": [],
   "source": [
    "#getting the statistics part for each video into a dictionary\n",
    "video_statistics = {}\n",
    "for i in range(len(all_videos_information)):\n",
    "    statistics = all_videos_information[i][\"items\"][0][\"statistics\"]\n",
    "    video_statistics[i] = statistics"
   ]
  },
  {
   "cell_type": "code",
   "execution_count": 24,
   "metadata": {},
   "outputs": [],
   "source": [
    "#getting the date for each video\n",
    "video_publication_date = {}\n",
    "for i in range(len(all_videos_information)):\n",
    "    publication_date = all_videos_information[i][\"items\"][0][\"snippet\"][\"publishedAt\"]\n",
    "    video_publication_date[i] = publication_date"
   ]
  },
  {
   "cell_type": "code",
   "execution_count": 26,
   "metadata": {},
   "outputs": [],
   "source": [
    "#getting the video titles for each video\n",
    "video_titles = {}\n",
    "for i in range(len(all_videos_information)):\n",
    "    title = all_videos_information[i][\"items\"][0][\"snippet\"][\"title\"]\n",
    "    video_titles[i] = title"
   ]
  },
  {
   "cell_type": "code",
   "execution_count": 30,
   "metadata": {},
   "outputs": [
    {
     "output_type": "execute_result",
     "data": {
      "text/plain": [
       "{'viewCount': '9503',\n",
       " 'likeCount': '691',\n",
       " 'dislikeCount': '12',\n",
       " 'favoriteCount': '0',\n",
       " 'commentCount': '53'}"
      ]
     },
     "metadata": {},
     "execution_count": 30
    }
   ],
   "source": [
    "video_statistics[0]"
   ]
  },
  {
   "cell_type": "code",
   "execution_count": 141,
   "metadata": {},
   "outputs": [],
   "source": [
    "#converting the statistics to dataframe\n",
    "df_test = pd.DataFrame(video_statistics)\n",
    "video_statistics_df = df_test.transpose()"
   ]
  },
  {
   "cell_type": "code",
   "execution_count": 166,
   "metadata": {},
   "outputs": [
    {
     "output_type": "execute_result",
     "data": {
      "text/plain": [
       "     viewCount likeCount dislikeCount favoriteCount commentCount\n",
       "0         9503       691           12             0           53\n",
       "1        28791      2040           18             0          127\n",
       "2       108911      6013           57             0          222\n",
       "3        25856      1006           18             0           65\n",
       "4        16466       642           10             0           31\n",
       "...        ...       ...          ...           ...          ...\n",
       "1161     34375       NaN          NaN             0           26\n",
       "1162     42476       NaN          NaN             0           24\n",
       "1163     39132       NaN          NaN             0            7\n",
       "1164     43411       NaN          NaN             0            9\n",
       "1165    101252       NaN          NaN             0           28\n",
       "\n",
       "[1166 rows x 5 columns]"
      ],
      "text/html": "<div>\n<style scoped>\n    .dataframe tbody tr th:only-of-type {\n        vertical-align: middle;\n    }\n\n    .dataframe tbody tr th {\n        vertical-align: top;\n    }\n\n    .dataframe thead th {\n        text-align: right;\n    }\n</style>\n<table border=\"1\" class=\"dataframe\">\n  <thead>\n    <tr style=\"text-align: right;\">\n      <th></th>\n      <th>viewCount</th>\n      <th>likeCount</th>\n      <th>dislikeCount</th>\n      <th>favoriteCount</th>\n      <th>commentCount</th>\n    </tr>\n  </thead>\n  <tbody>\n    <tr>\n      <th>0</th>\n      <td>9503</td>\n      <td>691</td>\n      <td>12</td>\n      <td>0</td>\n      <td>53</td>\n    </tr>\n    <tr>\n      <th>1</th>\n      <td>28791</td>\n      <td>2040</td>\n      <td>18</td>\n      <td>0</td>\n      <td>127</td>\n    </tr>\n    <tr>\n      <th>2</th>\n      <td>108911</td>\n      <td>6013</td>\n      <td>57</td>\n      <td>0</td>\n      <td>222</td>\n    </tr>\n    <tr>\n      <th>3</th>\n      <td>25856</td>\n      <td>1006</td>\n      <td>18</td>\n      <td>0</td>\n      <td>65</td>\n    </tr>\n    <tr>\n      <th>4</th>\n      <td>16466</td>\n      <td>642</td>\n      <td>10</td>\n      <td>0</td>\n      <td>31</td>\n    </tr>\n    <tr>\n      <th>...</th>\n      <td>...</td>\n      <td>...</td>\n      <td>...</td>\n      <td>...</td>\n      <td>...</td>\n    </tr>\n    <tr>\n      <th>1161</th>\n      <td>34375</td>\n      <td>NaN</td>\n      <td>NaN</td>\n      <td>0</td>\n      <td>26</td>\n    </tr>\n    <tr>\n      <th>1162</th>\n      <td>42476</td>\n      <td>NaN</td>\n      <td>NaN</td>\n      <td>0</td>\n      <td>24</td>\n    </tr>\n    <tr>\n      <th>1163</th>\n      <td>39132</td>\n      <td>NaN</td>\n      <td>NaN</td>\n      <td>0</td>\n      <td>7</td>\n    </tr>\n    <tr>\n      <th>1164</th>\n      <td>43411</td>\n      <td>NaN</td>\n      <td>NaN</td>\n      <td>0</td>\n      <td>9</td>\n    </tr>\n    <tr>\n      <th>1165</th>\n      <td>101252</td>\n      <td>NaN</td>\n      <td>NaN</td>\n      <td>0</td>\n      <td>28</td>\n    </tr>\n  </tbody>\n</table>\n<p>1166 rows × 5 columns</p>\n</div>"
     },
     "metadata": {},
     "execution_count": 166
    }
   ],
   "source": [
    "video_statistics_df"
   ]
  },
  {
   "cell_type": "code",
   "execution_count": 165,
   "metadata": {},
   "outputs": [],
   "source": [
    "#converting the publication date dataframe\n",
    "series = pd.Series(video_publication_date)"
   ]
  },
  {
   "cell_type": "code",
   "execution_count": 164,
   "metadata": {},
   "outputs": [],
   "source": [
    "publication_date_df = series.to_frame(name=\"publication_date\")"
   ]
  },
  {
   "cell_type": "code",
   "execution_count": 167,
   "metadata": {},
   "outputs": [
    {
     "output_type": "execute_result",
     "data": {
      "text/plain": [
       "pandas.core.frame.DataFrame"
      ]
     },
     "metadata": {},
     "execution_count": 167
    }
   ],
   "source": [
    "publication_date_df"
   ]
  },
  {
   "source": [
    "------------"
   ],
   "cell_type": "markdown",
   "metadata": {}
  },
  {
   "source": [
    "## Video titles"
   ],
   "cell_type": "markdown",
   "metadata": {}
  },
  {
   "cell_type": "code",
   "execution_count": 161,
   "metadata": {},
   "outputs": [],
   "source": [
    "#converting the video titles to dataframe\n",
    "series2 = pd.Series(video_titles)"
   ]
  },
  {
   "cell_type": "code",
   "execution_count": 162,
   "metadata": {},
   "outputs": [],
   "source": [
    "titles_df = series2.to_frame(name=\"title\")"
   ]
  },
  {
   "cell_type": "code",
   "execution_count": 174,
   "metadata": {},
   "outputs": [
    {
     "output_type": "execute_result",
     "data": {
      "text/plain": [
       "                                                  title\n",
       "0                                What is Binary Search?\n",
       "1     Certified Information Security Professional (C...\n",
       "2     Python Backend Web Development Course (with Dj...\n",
       "3                             React Router Crash Course\n",
       "4     Microsoft Security Compliance and Identity (SC...\n",
       "...                                                 ...\n",
       "1161        Computer Basics 5: How To Measure Data Size\n",
       "1162        Computer Basics 4: Decoding a Binary Number\n",
       "1163            Computer Basics 3: Intro to Binary Code\n",
       "1164          Computer Basics 2: More Computer Hardware\n",
       "1165  Computer Basics 1: The 4 Basic Parts of a Comp...\n",
       "\n",
       "[1166 rows x 1 columns]"
      ],
      "text/html": "<div>\n<style scoped>\n    .dataframe tbody tr th:only-of-type {\n        vertical-align: middle;\n    }\n\n    .dataframe tbody tr th {\n        vertical-align: top;\n    }\n\n    .dataframe thead th {\n        text-align: right;\n    }\n</style>\n<table border=\"1\" class=\"dataframe\">\n  <thead>\n    <tr style=\"text-align: right;\">\n      <th></th>\n      <th>title</th>\n    </tr>\n  </thead>\n  <tbody>\n    <tr>\n      <th>0</th>\n      <td>What is Binary Search?</td>\n    </tr>\n    <tr>\n      <th>1</th>\n      <td>Certified Information Security Professional (C...</td>\n    </tr>\n    <tr>\n      <th>2</th>\n      <td>Python Backend Web Development Course (with Dj...</td>\n    </tr>\n    <tr>\n      <th>3</th>\n      <td>React Router Crash Course</td>\n    </tr>\n    <tr>\n      <th>4</th>\n      <td>Microsoft Security Compliance and Identity (SC...</td>\n    </tr>\n    <tr>\n      <th>...</th>\n      <td>...</td>\n    </tr>\n    <tr>\n      <th>1161</th>\n      <td>Computer Basics 5: How To Measure Data Size</td>\n    </tr>\n    <tr>\n      <th>1162</th>\n      <td>Computer Basics 4: Decoding a Binary Number</td>\n    </tr>\n    <tr>\n      <th>1163</th>\n      <td>Computer Basics 3: Intro to Binary Code</td>\n    </tr>\n    <tr>\n      <th>1164</th>\n      <td>Computer Basics 2: More Computer Hardware</td>\n    </tr>\n    <tr>\n      <th>1165</th>\n      <td>Computer Basics 1: The 4 Basic Parts of a Comp...</td>\n    </tr>\n  </tbody>\n</table>\n<p>1166 rows × 1 columns</p>\n</div>"
     },
     "metadata": {},
     "execution_count": 174
    }
   ],
   "source": [
    "titles_df"
   ]
  },
  {
   "source": [
    "------------------"
   ],
   "cell_type": "markdown",
   "metadata": {}
  },
  {
   "source": [
    "## Final dataframe"
   ],
   "cell_type": "markdown",
   "metadata": {}
  },
  {
   "cell_type": "code",
   "execution_count": 177,
   "metadata": {},
   "outputs": [
    {
     "output_type": "execute_result",
     "data": {
      "text/plain": [
       "                                                  title      publication_date  \\\n",
       "0                                What is Binary Search?  2021-07-07T13:00:17Z   \n",
       "1     Certified Information Security Professional (C...  2021-07-06T13:00:08Z   \n",
       "2     Python Backend Web Development Course (with Dj...  2021-07-01T16:51:03Z   \n",
       "3                             React Router Crash Course  2021-06-30T13:59:48Z   \n",
       "4     Microsoft Security Compliance and Identity (SC...  2021-06-29T13:22:19Z   \n",
       "...                                                 ...                   ...   \n",
       "1161        Computer Basics 5: How To Measure Data Size  2015-07-17T08:31:23Z   \n",
       "1162        Computer Basics 4: Decoding a Binary Number  2015-07-17T08:31:20Z   \n",
       "1163            Computer Basics 3: Intro to Binary Code  2015-07-17T08:31:17Z   \n",
       "1164          Computer Basics 2: More Computer Hardware  2015-07-17T08:31:14Z   \n",
       "1165  Computer Basics 1: The 4 Basic Parts of a Comp...  2015-07-17T08:31:10Z   \n",
       "\n",
       "     viewCount likeCount dislikeCount favoriteCount commentCount  \n",
       "0         9503       691           12             0           53  \n",
       "1        28791      2040           18             0          127  \n",
       "2       108911      6013           57             0          222  \n",
       "3        25856      1006           18             0           65  \n",
       "4        16466       642           10             0           31  \n",
       "...        ...       ...          ...           ...          ...  \n",
       "1161     34375       NaN          NaN             0           26  \n",
       "1162     42476       NaN          NaN             0           24  \n",
       "1163     39132       NaN          NaN             0            7  \n",
       "1164     43411       NaN          NaN             0            9  \n",
       "1165    101252       NaN          NaN             0           28  \n",
       "\n",
       "[1166 rows x 7 columns]"
      ],
      "text/html": "<div>\n<style scoped>\n    .dataframe tbody tr th:only-of-type {\n        vertical-align: middle;\n    }\n\n    .dataframe tbody tr th {\n        vertical-align: top;\n    }\n\n    .dataframe thead th {\n        text-align: right;\n    }\n</style>\n<table border=\"1\" class=\"dataframe\">\n  <thead>\n    <tr style=\"text-align: right;\">\n      <th></th>\n      <th>title</th>\n      <th>publication_date</th>\n      <th>viewCount</th>\n      <th>likeCount</th>\n      <th>dislikeCount</th>\n      <th>favoriteCount</th>\n      <th>commentCount</th>\n    </tr>\n  </thead>\n  <tbody>\n    <tr>\n      <th>0</th>\n      <td>What is Binary Search?</td>\n      <td>2021-07-07T13:00:17Z</td>\n      <td>9503</td>\n      <td>691</td>\n      <td>12</td>\n      <td>0</td>\n      <td>53</td>\n    </tr>\n    <tr>\n      <th>1</th>\n      <td>Certified Information Security Professional (C...</td>\n      <td>2021-07-06T13:00:08Z</td>\n      <td>28791</td>\n      <td>2040</td>\n      <td>18</td>\n      <td>0</td>\n      <td>127</td>\n    </tr>\n    <tr>\n      <th>2</th>\n      <td>Python Backend Web Development Course (with Dj...</td>\n      <td>2021-07-01T16:51:03Z</td>\n      <td>108911</td>\n      <td>6013</td>\n      <td>57</td>\n      <td>0</td>\n      <td>222</td>\n    </tr>\n    <tr>\n      <th>3</th>\n      <td>React Router Crash Course</td>\n      <td>2021-06-30T13:59:48Z</td>\n      <td>25856</td>\n      <td>1006</td>\n      <td>18</td>\n      <td>0</td>\n      <td>65</td>\n    </tr>\n    <tr>\n      <th>4</th>\n      <td>Microsoft Security Compliance and Identity (SC...</td>\n      <td>2021-06-29T13:22:19Z</td>\n      <td>16466</td>\n      <td>642</td>\n      <td>10</td>\n      <td>0</td>\n      <td>31</td>\n    </tr>\n    <tr>\n      <th>...</th>\n      <td>...</td>\n      <td>...</td>\n      <td>...</td>\n      <td>...</td>\n      <td>...</td>\n      <td>...</td>\n      <td>...</td>\n    </tr>\n    <tr>\n      <th>1161</th>\n      <td>Computer Basics 5: How To Measure Data Size</td>\n      <td>2015-07-17T08:31:23Z</td>\n      <td>34375</td>\n      <td>NaN</td>\n      <td>NaN</td>\n      <td>0</td>\n      <td>26</td>\n    </tr>\n    <tr>\n      <th>1162</th>\n      <td>Computer Basics 4: Decoding a Binary Number</td>\n      <td>2015-07-17T08:31:20Z</td>\n      <td>42476</td>\n      <td>NaN</td>\n      <td>NaN</td>\n      <td>0</td>\n      <td>24</td>\n    </tr>\n    <tr>\n      <th>1163</th>\n      <td>Computer Basics 3: Intro to Binary Code</td>\n      <td>2015-07-17T08:31:17Z</td>\n      <td>39132</td>\n      <td>NaN</td>\n      <td>NaN</td>\n      <td>0</td>\n      <td>7</td>\n    </tr>\n    <tr>\n      <th>1164</th>\n      <td>Computer Basics 2: More Computer Hardware</td>\n      <td>2015-07-17T08:31:14Z</td>\n      <td>43411</td>\n      <td>NaN</td>\n      <td>NaN</td>\n      <td>0</td>\n      <td>9</td>\n    </tr>\n    <tr>\n      <th>1165</th>\n      <td>Computer Basics 1: The 4 Basic Parts of a Comp...</td>\n      <td>2015-07-17T08:31:10Z</td>\n      <td>101252</td>\n      <td>NaN</td>\n      <td>NaN</td>\n      <td>0</td>\n      <td>28</td>\n    </tr>\n  </tbody>\n</table>\n<p>1166 rows × 7 columns</p>\n</div>"
     },
     "metadata": {},
     "execution_count": 177
    }
   ],
   "source": [
    "videos_df = pd.concat([titles_df, publication_date_df, video_statistics_df],axis=1)\n",
    "videos_df"
   ]
  },
  {
   "source": [
    "-------------"
   ],
   "cell_type": "markdown",
   "metadata": {}
  },
  {
   "source": [
    "## Pewdiepie Channel Information"
   ],
   "cell_type": "markdown",
   "metadata": {}
  },
  {
   "cell_type": "code",
   "execution_count": 8,
   "metadata": {},
   "outputs": [],
   "source": [
    "pewdpiepie_channel_id = \"UC-lHJZR3Gqxm24_Vd_AJ5Yw\""
   ]
  },
  {
   "cell_type": "code",
   "execution_count": 9,
   "metadata": {},
   "outputs": [],
   "source": [
    "all_videos_pewdiepie = get_all_videos(pewdpiepie_channel_id)"
   ]
  },
  {
   "cell_type": "code",
   "execution_count": 10,
   "metadata": {},
   "outputs": [],
   "source": [
    "#IMPORTANT: function does not work from functions file\n",
    "#def get_all_videos_information(videos_json):\n",
    "#    \n",
    "#    all_videos_information = []\n",
    "#    for video in range(len(videos_json)):\n",
    "#        video_id = videos_json[video][\"snippet\"][\"resourceId\"][\"videoId\"]\n",
    "#        video_information = get_video_information(video_id)\n",
    "#        all_videos_information.append(video_information)\n",
    "#\n",
    "#    return all_videos_information\n"
   ]
  },
  {
   "cell_type": "code",
   "execution_count": 11,
   "metadata": {},
   "outputs": [],
   "source": [
    "pew_all_videos_infos = get_all_videos_information(all_videos_pewdiepie)"
   ]
  },
  {
   "cell_type": "code",
   "execution_count": 41,
   "metadata": {},
   "outputs": [
    {
     "output_type": "execute_result",
     "data": {
      "text/plain": [
       "'PT11M'"
      ]
     },
     "metadata": {},
     "execution_count": 41
    }
   ],
   "source": [
    "#finding video length\n",
    "pew_all_videos_infos[0][\"items\"][0][\"contentDetails\"][\"duration\"]"
   ]
  },
  {
   "cell_type": "code",
   "execution_count": 115,
   "metadata": {},
   "outputs": [
    {
     "output_type": "execute_result",
     "data": {
      "text/plain": [
       "{'kind': 'youtube#videoListResponse',\n",
       " 'etag': 'vYQ9AER4IDdCF2gMD5FFFMPIPFI',\n",
       " 'items': [{'kind': 'youtube#video',\n",
       "   'etag': 'jAJijKugkAROAtEVIuoEarZu2sg',\n",
       "   'id': 'wZTryyGF0UY',\n",
       "   'snippet': {'publishedAt': '2021-07-07T16:14:08Z',\n",
       "    'channelId': 'UC-lHJZR3Gqxm24_Vd_AJ5Yw',\n",
       "    'title': 'The End Is Near',\n",
       "    'description': \"🧎Subscribe to become a FLOOR GANG Member here: 👉https://www.youtube.com/channel/UC-lHJZR3Gqxm24_Vd_AJ5Yw/join\\nGet exclusive epic pewdiepie inside epic access and large 🅿️🅿️!\\n\\n🥤PewDiePie Gfuel(affiliate link): https://gfuel.ly/31Kargr\\n#CodePewdiepie\\n\\n✨My Stores✨\\n👕 Merch: https://represent.com/store/pewdiepie\\n👘 Tsuki: https://tsuki.market/\\n👔 Based: https://www.based.gg\\n🗿 100M Figurine: https://pewdiepie.store/\\n📱Customized Devices: https://rhinoshield.io/pewdiepie\\n👕 Terraria Collab: https://terraria.shop/collections/pewdiepie\\n\\n\\n⚙️My Setup (affiliate link)⚙️\\n🪑 Chair: https://clutchchairz.com/pewdiepie/\\n⌨️ Keyboard: https://ghostkeyboards.com/pages/pewdiepie\\n🖱️ Mouse: https://ghostkeyboards.com/pages/pewdiepie\\n\\n🕹️ Pewdiepie's Pixelings\\niOS: https://buff.ly/2pNG0aT\\nAndroid: https://buff.ly/34C68nZ\\n#pewdiepie #pixelings\\n\\n🕹️Pewdiepie’s Tuber Simulator\\niOS: https://apps.apple.com/us/app/pewdiepies-tuber-simulator/id1093190533\\nAndroid: https://play.google.com/store/apps/details?id=com.outerminds.tubular&hl=en_GB&gl=US\\n\\n🎮Arkade Blaster Controller: https://youtu.be/FQgLsYOKP8w Arkade Blaster Pro! #ad\\n\\n⛰️NordVPN DOWNLOAD (affiliate link)⛰️\\nGo to https://NordVPN.com/pewdiepie and use code PEWDIEPIE to get a 2-year plan plus 1 additional month with a huge discount. It’s risk free with Nord’s 30 day money-back guarantee!\",\n",
       "    'thumbnails': {'default': {'url': 'https://i.ytimg.com/vi/wZTryyGF0UY/default.jpg',\n",
       "      'width': 120,\n",
       "      'height': 90},\n",
       "     'medium': {'url': 'https://i.ytimg.com/vi/wZTryyGF0UY/mqdefault.jpg',\n",
       "      'width': 320,\n",
       "      'height': 180},\n",
       "     'high': {'url': 'https://i.ytimg.com/vi/wZTryyGF0UY/hqdefault.jpg',\n",
       "      'width': 480,\n",
       "      'height': 360},\n",
       "     'standard': {'url': 'https://i.ytimg.com/vi/wZTryyGF0UY/sddefault.jpg',\n",
       "      'width': 640,\n",
       "      'height': 480},\n",
       "     'maxres': {'url': 'https://i.ytimg.com/vi/wZTryyGF0UY/maxresdefault.jpg',\n",
       "      'width': 1280,\n",
       "      'height': 720}},\n",
       "    'channelTitle': 'PewDiePie',\n",
       "    'tags': ['SATIRE'],\n",
       "    'categoryId': '20',\n",
       "    'liveBroadcastContent': 'none',\n",
       "    'defaultLanguage': 'en-US',\n",
       "    'localized': {'title': 'The End Is Near',\n",
       "     'description': \"🧎Subscribe to become a FLOOR GANG Member here: 👉https://www.youtube.com/channel/UC-lHJZR3Gqxm24_Vd_AJ5Yw/join\\nGet exclusive epic pewdiepie inside epic access and large 🅿️🅿️!\\n\\n🥤PewDiePie Gfuel(affiliate link): https://gfuel.ly/31Kargr\\n#CodePewdiepie\\n\\n✨My Stores✨\\n👕 Merch: https://represent.com/store/pewdiepie\\n👘 Tsuki: https://tsuki.market/\\n👔 Based: https://www.based.gg\\n🗿 100M Figurine: https://pewdiepie.store/\\n📱Customized Devices: https://rhinoshield.io/pewdiepie\\n👕 Terraria Collab: https://terraria.shop/collections/pewdiepie\\n\\n\\n⚙️My Setup (affiliate link)⚙️\\n🪑 Chair: https://clutchchairz.com/pewdiepie/\\n⌨️ Keyboard: https://ghostkeyboards.com/pages/pewdiepie\\n🖱️ Mouse: https://ghostkeyboards.com/pages/pewdiepie\\n\\n🕹️ Pewdiepie's Pixelings\\niOS: https://buff.ly/2pNG0aT\\nAndroid: https://buff.ly/34C68nZ\\n#pewdiepie #pixelings\\n\\n🕹️Pewdiepie’s Tuber Simulator\\niOS: https://apps.apple.com/us/app/pewdiepies-tuber-simulator/id1093190533\\nAndroid: https://play.google.com/store/apps/details?id=com.outerminds.tubular&hl=en_GB&gl=US\\n\\n🎮Arkade Blaster Controller: https://youtu.be/FQgLsYOKP8w Arkade Blaster Pro! #ad\\n\\n⛰️NordVPN DOWNLOAD (affiliate link)⛰️\\nGo to https://NordVPN.com/pewdiepie and use code PEWDIEPIE to get a 2-year plan plus 1 additional month with a huge discount. It’s risk free with Nord’s 30 day money-back guarantee!\"},\n",
       "    'defaultAudioLanguage': 'en-GB'},\n",
       "   'contentDetails': {'duration': 'PT11M',\n",
       "    'dimension': '2d',\n",
       "    'definition': 'hd',\n",
       "    'caption': 'false',\n",
       "    'licensedContent': True,\n",
       "    'contentRating': {},\n",
       "    'projection': 'rectangular'},\n",
       "   'statistics': {'viewCount': '1875701',\n",
       "    'likeCount': '197695',\n",
       "    'dislikeCount': '950',\n",
       "    'favoriteCount': '0',\n",
       "    'commentCount': '8050'}}],\n",
       " 'pageInfo': {'totalResults': 1, 'resultsPerPage': 1}}"
      ]
     },
     "metadata": {},
     "execution_count": 115
    }
   ],
   "source": [
    "pew_all_videos_infos[0]"
   ]
  },
  {
   "cell_type": "code",
   "execution_count": 37,
   "metadata": {},
   "outputs": [
    {
     "output_type": "execute_result",
     "data": {
      "text/plain": [
       "dict_keys(['publishedAt', 'channelId', 'title', 'description', 'thumbnails', 'channelTitle', 'tags', 'categoryId', 'liveBroadcastContent', 'defaultLanguage', 'localized', 'defaultAudioLanguage'])"
      ]
     },
     "metadata": {},
     "execution_count": 37
    }
   ],
   "source": [
    "#finding category id\n",
    "pew_all_videos_infos[0][\"items\"][0][\"snippet\"][\"category\"]"
   ]
  },
  {
   "cell_type": "code",
   "execution_count": 24,
   "metadata": {},
   "outputs": [],
   "source": [
    "video_statistics = {}\n",
    "video_publication_date = {}\n",
    "video_titles = {}\n",
    "\n",
    "\n",
    "for i in range(len(pew_all_videos_infos)):\n",
    "    statistics = pew_all_videos_infos[i][\"items\"][0][\"statistics\"]\n",
    "    video_statistics[i] = statistics\n",
    "\n",
    "for i in range(len(pew_all_videos_infos)):\n",
    "    publication_date = pew_all_videos_infos[i][\"items\"][0][\"snippet\"][\"publishedAt\"]\n",
    "    video_publication_date[i] = publication_date\n",
    "\n",
    "for i in range(len(pew_all_videos_infos)):\n",
    "    title = pew_all_videos_infos[i][\"items\"][0][\"snippet\"][\"title\"]\n",
    "    video_titles[i] = title\n",
    "\n",
    "\n",
    "df_test = pd.DataFrame(video_statistics)\n",
    "video_statistics_df = df_test.transpose()\n",
    "\n",
    "series = pd.Series(video_publication_date)\n",
    "publication_date_df = series.to_frame(name=\"publication_date\")\n",
    "\n",
    "series2 = pd.Series(video_titles)\n",
    "titles_df = series2.to_frame(name=\"title\")\n",
    "\n",
    "videos_df = pd.concat([titles_df, publication_date_df, video_statistics_df],axis=1)\n",
    "\n",
    "#extract_essential_information(pew_all_videos_infos)"
   ]
  },
  {
   "cell_type": "code",
   "execution_count": null,
   "metadata": {},
   "outputs": [],
   "source": []
  },
  {
   "cell_type": "code",
   "execution_count": 98,
   "metadata": {},
   "outputs": [],
   "source": [
    "video_lengths_list = []"
   ]
  },
  {
   "cell_type": "code",
   "execution_count": 102,
   "metadata": {},
   "outputs": [],
   "source": [
    "for i in range(len(pew_all_videos_infos)):\n",
    "    video_length = pew_all_videos_infos[i][\"items\"][0][\"contentDetails\"][\"duration\"]\n",
    "    video_lengths_list.append(video_length)"
   ]
  },
  {
   "cell_type": "code",
   "execution_count": 103,
   "metadata": {},
   "outputs": [
    {
     "output_type": "execute_result",
     "data": {
      "text/plain": [
       "'PT11M'"
      ]
     },
     "metadata": {},
     "execution_count": 103
    }
   ],
   "source": [
    "video_lengths_list[0]"
   ]
  },
  {
   "cell_type": "code",
   "execution_count": 104,
   "metadata": {},
   "outputs": [
    {
     "output_type": "stream",
     "name": "stdout",
     "text": [
      "660.0\n"
     ]
    }
   ],
   "source": [
    "#converting the time into seconds\n",
    "dur = isodate.parse_duration('PT11M')\n",
    "print(dur.total_seconds())"
   ]
  },
  {
   "cell_type": "code",
   "execution_count": 105,
   "metadata": {},
   "outputs": [],
   "source": [
    "video_lengths = {}"
   ]
  },
  {
   "cell_type": "code",
   "execution_count": 106,
   "metadata": {},
   "outputs": [],
   "source": [
    "for i in video_lengths_list:\n",
    "    dur =isodate.parse_duration(i)\n",
    "    video_lengths[video_lengths_list.index(i)] = dur"
   ]
  },
  {
   "cell_type": "code",
   "execution_count": 107,
   "metadata": {},
   "outputs": [],
   "source": [
    "series3 = pd.Series(video_lengths)\n",
    "lengths_df = series3.to_frame(name=\"length\")"
   ]
  },
  {
   "cell_type": "code",
   "execution_count": 108,
   "metadata": {},
   "outputs": [
    {
     "output_type": "execute_result",
     "data": {
      "text/plain": [
       "              length\n",
       "0    0 days 00:11:00\n",
       "1    0 days 00:12:41\n",
       "2    0 days 00:10:29\n",
       "3    0 days 01:41:17\n",
       "4    0 days 00:12:44\n",
       "...              ...\n",
       "4305 0 days 00:08:44\n",
       "4319 0 days 00:01:14\n",
       "4357 0 days 00:01:46\n",
       "4358 0 days 00:02:10\n",
       "4365 0 days 00:02:04\n",
       "\n",
       "[1635 rows x 1 columns]"
      ],
      "text/html": "<div>\n<style scoped>\n    .dataframe tbody tr th:only-of-type {\n        vertical-align: middle;\n    }\n\n    .dataframe tbody tr th {\n        vertical-align: top;\n    }\n\n    .dataframe thead th {\n        text-align: right;\n    }\n</style>\n<table border=\"1\" class=\"dataframe\">\n  <thead>\n    <tr style=\"text-align: right;\">\n      <th></th>\n      <th>length</th>\n    </tr>\n  </thead>\n  <tbody>\n    <tr>\n      <th>0</th>\n      <td>0 days 00:11:00</td>\n    </tr>\n    <tr>\n      <th>1</th>\n      <td>0 days 00:12:41</td>\n    </tr>\n    <tr>\n      <th>2</th>\n      <td>0 days 00:10:29</td>\n    </tr>\n    <tr>\n      <th>3</th>\n      <td>0 days 01:41:17</td>\n    </tr>\n    <tr>\n      <th>4</th>\n      <td>0 days 00:12:44</td>\n    </tr>\n    <tr>\n      <th>...</th>\n      <td>...</td>\n    </tr>\n    <tr>\n      <th>4305</th>\n      <td>0 days 00:08:44</td>\n    </tr>\n    <tr>\n      <th>4319</th>\n      <td>0 days 00:01:14</td>\n    </tr>\n    <tr>\n      <th>4357</th>\n      <td>0 days 00:01:46</td>\n    </tr>\n    <tr>\n      <th>4358</th>\n      <td>0 days 00:02:10</td>\n    </tr>\n    <tr>\n      <th>4365</th>\n      <td>0 days 00:02:04</td>\n    </tr>\n  </tbody>\n</table>\n<p>1635 rows × 1 columns</p>\n</div>"
     },
     "metadata": {},
     "execution_count": 108
    }
   ],
   "source": [
    "lengths_df"
   ]
  },
  {
   "cell_type": "code",
   "execution_count": 109,
   "metadata": {},
   "outputs": [],
   "source": [
    "#videos_df.drop('length', inplace=True, axis=1)"
   ]
  },
  {
   "cell_type": "code",
   "execution_count": 111,
   "metadata": {},
   "outputs": [],
   "source": [
    "videos_df = pd.concat([videos_df, lengths_df],axis=1)"
   ]
  },
  {
   "cell_type": "code",
   "execution_count": 112,
   "metadata": {},
   "outputs": [
    {
     "output_type": "execute_result",
     "data": {
      "text/plain": [
       "                                      title      publication_date viewCount  \\\n",
       "0                           The End Is Near  2021-07-07T16:14:08Z   1875701   \n",
       "1                I Hate Optical Illusions..  2021-07-06T12:24:09Z   2556115   \n",
       "2  Things Humans Were Never Meant To See...  2021-07-05T16:44:57Z   2379866   \n",
       "3         Pewdiepie Minecraft Olympic Games  2021-07-04T16:52:00Z   1980526   \n",
       "4         BTS stan changes race to Korean..  2021-07-02T17:29:13Z   3442064   \n",
       "\n",
       "  likeCount dislikeCount favoriteCount commentCount          length  \n",
       "0    197695          950             0         8050 0 days 00:11:00  \n",
       "1    232796         1717             0        10003 0 days 00:12:41  \n",
       "2    211043         1544             0         9115 0 days 00:10:29  \n",
       "3     91292         1405             0         1991 0 days 01:41:17  \n",
       "4    314738         3135             0        41254 0 days 00:12:44  "
      ],
      "text/html": "<div>\n<style scoped>\n    .dataframe tbody tr th:only-of-type {\n        vertical-align: middle;\n    }\n\n    .dataframe tbody tr th {\n        vertical-align: top;\n    }\n\n    .dataframe thead th {\n        text-align: right;\n    }\n</style>\n<table border=\"1\" class=\"dataframe\">\n  <thead>\n    <tr style=\"text-align: right;\">\n      <th></th>\n      <th>title</th>\n      <th>publication_date</th>\n      <th>viewCount</th>\n      <th>likeCount</th>\n      <th>dislikeCount</th>\n      <th>favoriteCount</th>\n      <th>commentCount</th>\n      <th>length</th>\n    </tr>\n  </thead>\n  <tbody>\n    <tr>\n      <th>0</th>\n      <td>The End Is Near</td>\n      <td>2021-07-07T16:14:08Z</td>\n      <td>1875701</td>\n      <td>197695</td>\n      <td>950</td>\n      <td>0</td>\n      <td>8050</td>\n      <td>0 days 00:11:00</td>\n    </tr>\n    <tr>\n      <th>1</th>\n      <td>I Hate Optical Illusions..</td>\n      <td>2021-07-06T12:24:09Z</td>\n      <td>2556115</td>\n      <td>232796</td>\n      <td>1717</td>\n      <td>0</td>\n      <td>10003</td>\n      <td>0 days 00:12:41</td>\n    </tr>\n    <tr>\n      <th>2</th>\n      <td>Things Humans Were Never Meant To See...</td>\n      <td>2021-07-05T16:44:57Z</td>\n      <td>2379866</td>\n      <td>211043</td>\n      <td>1544</td>\n      <td>0</td>\n      <td>9115</td>\n      <td>0 days 00:10:29</td>\n    </tr>\n    <tr>\n      <th>3</th>\n      <td>Pewdiepie Minecraft Olympic Games</td>\n      <td>2021-07-04T16:52:00Z</td>\n      <td>1980526</td>\n      <td>91292</td>\n      <td>1405</td>\n      <td>0</td>\n      <td>1991</td>\n      <td>0 days 01:41:17</td>\n    </tr>\n    <tr>\n      <th>4</th>\n      <td>BTS stan changes race to Korean..</td>\n      <td>2021-07-02T17:29:13Z</td>\n      <td>3442064</td>\n      <td>314738</td>\n      <td>3135</td>\n      <td>0</td>\n      <td>41254</td>\n      <td>0 days 00:12:44</td>\n    </tr>\n  </tbody>\n</table>\n</div>"
     },
     "metadata": {},
     "execution_count": 112
    }
   ],
   "source": [
    "videos_df.head()"
   ]
  },
  {
   "cell_type": "code",
   "execution_count": 113,
   "metadata": {},
   "outputs": [],
   "source": [
    "videos_df.to_csv('pewdiepie_data.csv')"
   ]
  },
  {
   "source": [
    "---------------------"
   ],
   "cell_type": "markdown",
   "metadata": {}
  },
  {
   "source": [
    "## Check if tags are necessary"
   ],
   "cell_type": "markdown",
   "metadata": {}
  },
  {
   "cell_type": "code",
   "execution_count": 38,
   "metadata": {},
   "outputs": [
    {
     "output_type": "execute_result",
     "data": {
      "text/plain": [
       "['SATIRE',\n",
       " 'ALL HAIL CRAB KING',\n",
       " 'crab',\n",
       " 'crab rave',\n",
       " 'crab rave meme',\n",
       " 't series',\n",
       " 'tseries',\n",
       " 'pewdiepie vs tseries',\n",
       " 'pewdiepie tseries',\n",
       " 'pewdiepie',\n",
       " 'pewds',\n",
       " 'pewdie',\n",
       " 'pdp',\n",
       " 'crab king',\n",
       " 'vr']"
      ]
     },
     "metadata": {},
     "execution_count": 38
    }
   ],
   "source": [
    "pew_all_videos_infos[678][\"items\"][0][\"snippet\"][\"tags\"]"
   ]
  },
  {
   "cell_type": "code",
   "execution_count": 39,
   "metadata": {},
   "outputs": [],
   "source": [
    "tags = {}\n",
    "\n",
    "for i in range(len(pew_all_videos_infos)):\n",
    "    tags[i] = pew_all_videos_infos[678][\"items\"][0][\"snippet\"][\"tags\"]"
   ]
  },
  {
   "cell_type": "code",
   "execution_count": 44,
   "metadata": {},
   "outputs": [],
   "source": [
    "tags_df = pd.DataFrame(tags)\n",
    "tags_df = tags_df.transpose()"
   ]
  },
  {
   "cell_type": "code",
   "execution_count": 45,
   "metadata": {},
   "outputs": [
    {
     "output_type": "execute_result",
     "data": {
      "text/plain": [
       "          0                   1     2          3               4         5   \\\n",
       "0     SATIRE  ALL HAIL CRAB KING  crab  crab rave  crab rave meme  t series   \n",
       "1     SATIRE  ALL HAIL CRAB KING  crab  crab rave  crab rave meme  t series   \n",
       "2     SATIRE  ALL HAIL CRAB KING  crab  crab rave  crab rave meme  t series   \n",
       "3     SATIRE  ALL HAIL CRAB KING  crab  crab rave  crab rave meme  t series   \n",
       "4     SATIRE  ALL HAIL CRAB KING  crab  crab rave  crab rave meme  t series   \n",
       "...      ...                 ...   ...        ...             ...       ...   \n",
       "4361  SATIRE  ALL HAIL CRAB KING  crab  crab rave  crab rave meme  t series   \n",
       "4362  SATIRE  ALL HAIL CRAB KING  crab  crab rave  crab rave meme  t series   \n",
       "4363  SATIRE  ALL HAIL CRAB KING  crab  crab rave  crab rave meme  t series   \n",
       "4364  SATIRE  ALL HAIL CRAB KING  crab  crab rave  crab rave meme  t series   \n",
       "4365  SATIRE  ALL HAIL CRAB KING  crab  crab rave  crab rave meme  t series   \n",
       "\n",
       "           6                     7                  8          9      10  \\\n",
       "0     tseries  pewdiepie vs tseries  pewdiepie tseries  pewdiepie  pewds   \n",
       "1     tseries  pewdiepie vs tseries  pewdiepie tseries  pewdiepie  pewds   \n",
       "2     tseries  pewdiepie vs tseries  pewdiepie tseries  pewdiepie  pewds   \n",
       "3     tseries  pewdiepie vs tseries  pewdiepie tseries  pewdiepie  pewds   \n",
       "4     tseries  pewdiepie vs tseries  pewdiepie tseries  pewdiepie  pewds   \n",
       "...       ...                   ...                ...        ...    ...   \n",
       "4361  tseries  pewdiepie vs tseries  pewdiepie tseries  pewdiepie  pewds   \n",
       "4362  tseries  pewdiepie vs tseries  pewdiepie tseries  pewdiepie  pewds   \n",
       "4363  tseries  pewdiepie vs tseries  pewdiepie tseries  pewdiepie  pewds   \n",
       "4364  tseries  pewdiepie vs tseries  pewdiepie tseries  pewdiepie  pewds   \n",
       "4365  tseries  pewdiepie vs tseries  pewdiepie tseries  pewdiepie  pewds   \n",
       "\n",
       "          11   12         13  14  \n",
       "0     pewdie  pdp  crab king  vr  \n",
       "1     pewdie  pdp  crab king  vr  \n",
       "2     pewdie  pdp  crab king  vr  \n",
       "3     pewdie  pdp  crab king  vr  \n",
       "4     pewdie  pdp  crab king  vr  \n",
       "...      ...  ...        ...  ..  \n",
       "4361  pewdie  pdp  crab king  vr  \n",
       "4362  pewdie  pdp  crab king  vr  \n",
       "4363  pewdie  pdp  crab king  vr  \n",
       "4364  pewdie  pdp  crab king  vr  \n",
       "4365  pewdie  pdp  crab king  vr  \n",
       "\n",
       "[4366 rows x 15 columns]"
      ],
      "text/html": "<div>\n<style scoped>\n    .dataframe tbody tr th:only-of-type {\n        vertical-align: middle;\n    }\n\n    .dataframe tbody tr th {\n        vertical-align: top;\n    }\n\n    .dataframe thead th {\n        text-align: right;\n    }\n</style>\n<table border=\"1\" class=\"dataframe\">\n  <thead>\n    <tr style=\"text-align: right;\">\n      <th></th>\n      <th>0</th>\n      <th>1</th>\n      <th>2</th>\n      <th>3</th>\n      <th>4</th>\n      <th>5</th>\n      <th>6</th>\n      <th>7</th>\n      <th>8</th>\n      <th>9</th>\n      <th>10</th>\n      <th>11</th>\n      <th>12</th>\n      <th>13</th>\n      <th>14</th>\n    </tr>\n  </thead>\n  <tbody>\n    <tr>\n      <th>0</th>\n      <td>SATIRE</td>\n      <td>ALL HAIL CRAB KING</td>\n      <td>crab</td>\n      <td>crab rave</td>\n      <td>crab rave meme</td>\n      <td>t series</td>\n      <td>tseries</td>\n      <td>pewdiepie vs tseries</td>\n      <td>pewdiepie tseries</td>\n      <td>pewdiepie</td>\n      <td>pewds</td>\n      <td>pewdie</td>\n      <td>pdp</td>\n      <td>crab king</td>\n      <td>vr</td>\n    </tr>\n    <tr>\n      <th>1</th>\n      <td>SATIRE</td>\n      <td>ALL HAIL CRAB KING</td>\n      <td>crab</td>\n      <td>crab rave</td>\n      <td>crab rave meme</td>\n      <td>t series</td>\n      <td>tseries</td>\n      <td>pewdiepie vs tseries</td>\n      <td>pewdiepie tseries</td>\n      <td>pewdiepie</td>\n      <td>pewds</td>\n      <td>pewdie</td>\n      <td>pdp</td>\n      <td>crab king</td>\n      <td>vr</td>\n    </tr>\n    <tr>\n      <th>2</th>\n      <td>SATIRE</td>\n      <td>ALL HAIL CRAB KING</td>\n      <td>crab</td>\n      <td>crab rave</td>\n      <td>crab rave meme</td>\n      <td>t series</td>\n      <td>tseries</td>\n      <td>pewdiepie vs tseries</td>\n      <td>pewdiepie tseries</td>\n      <td>pewdiepie</td>\n      <td>pewds</td>\n      <td>pewdie</td>\n      <td>pdp</td>\n      <td>crab king</td>\n      <td>vr</td>\n    </tr>\n    <tr>\n      <th>3</th>\n      <td>SATIRE</td>\n      <td>ALL HAIL CRAB KING</td>\n      <td>crab</td>\n      <td>crab rave</td>\n      <td>crab rave meme</td>\n      <td>t series</td>\n      <td>tseries</td>\n      <td>pewdiepie vs tseries</td>\n      <td>pewdiepie tseries</td>\n      <td>pewdiepie</td>\n      <td>pewds</td>\n      <td>pewdie</td>\n      <td>pdp</td>\n      <td>crab king</td>\n      <td>vr</td>\n    </tr>\n    <tr>\n      <th>4</th>\n      <td>SATIRE</td>\n      <td>ALL HAIL CRAB KING</td>\n      <td>crab</td>\n      <td>crab rave</td>\n      <td>crab rave meme</td>\n      <td>t series</td>\n      <td>tseries</td>\n      <td>pewdiepie vs tseries</td>\n      <td>pewdiepie tseries</td>\n      <td>pewdiepie</td>\n      <td>pewds</td>\n      <td>pewdie</td>\n      <td>pdp</td>\n      <td>crab king</td>\n      <td>vr</td>\n    </tr>\n    <tr>\n      <th>...</th>\n      <td>...</td>\n      <td>...</td>\n      <td>...</td>\n      <td>...</td>\n      <td>...</td>\n      <td>...</td>\n      <td>...</td>\n      <td>...</td>\n      <td>...</td>\n      <td>...</td>\n      <td>...</td>\n      <td>...</td>\n      <td>...</td>\n      <td>...</td>\n      <td>...</td>\n    </tr>\n    <tr>\n      <th>4361</th>\n      <td>SATIRE</td>\n      <td>ALL HAIL CRAB KING</td>\n      <td>crab</td>\n      <td>crab rave</td>\n      <td>crab rave meme</td>\n      <td>t series</td>\n      <td>tseries</td>\n      <td>pewdiepie vs tseries</td>\n      <td>pewdiepie tseries</td>\n      <td>pewdiepie</td>\n      <td>pewds</td>\n      <td>pewdie</td>\n      <td>pdp</td>\n      <td>crab king</td>\n      <td>vr</td>\n    </tr>\n    <tr>\n      <th>4362</th>\n      <td>SATIRE</td>\n      <td>ALL HAIL CRAB KING</td>\n      <td>crab</td>\n      <td>crab rave</td>\n      <td>crab rave meme</td>\n      <td>t series</td>\n      <td>tseries</td>\n      <td>pewdiepie vs tseries</td>\n      <td>pewdiepie tseries</td>\n      <td>pewdiepie</td>\n      <td>pewds</td>\n      <td>pewdie</td>\n      <td>pdp</td>\n      <td>crab king</td>\n      <td>vr</td>\n    </tr>\n    <tr>\n      <th>4363</th>\n      <td>SATIRE</td>\n      <td>ALL HAIL CRAB KING</td>\n      <td>crab</td>\n      <td>crab rave</td>\n      <td>crab rave meme</td>\n      <td>t series</td>\n      <td>tseries</td>\n      <td>pewdiepie vs tseries</td>\n      <td>pewdiepie tseries</td>\n      <td>pewdiepie</td>\n      <td>pewds</td>\n      <td>pewdie</td>\n      <td>pdp</td>\n      <td>crab king</td>\n      <td>vr</td>\n    </tr>\n    <tr>\n      <th>4364</th>\n      <td>SATIRE</td>\n      <td>ALL HAIL CRAB KING</td>\n      <td>crab</td>\n      <td>crab rave</td>\n      <td>crab rave meme</td>\n      <td>t series</td>\n      <td>tseries</td>\n      <td>pewdiepie vs tseries</td>\n      <td>pewdiepie tseries</td>\n      <td>pewdiepie</td>\n      <td>pewds</td>\n      <td>pewdie</td>\n      <td>pdp</td>\n      <td>crab king</td>\n      <td>vr</td>\n    </tr>\n    <tr>\n      <th>4365</th>\n      <td>SATIRE</td>\n      <td>ALL HAIL CRAB KING</td>\n      <td>crab</td>\n      <td>crab rave</td>\n      <td>crab rave meme</td>\n      <td>t series</td>\n      <td>tseries</td>\n      <td>pewdiepie vs tseries</td>\n      <td>pewdiepie tseries</td>\n      <td>pewdiepie</td>\n      <td>pewds</td>\n      <td>pewdie</td>\n      <td>pdp</td>\n      <td>crab king</td>\n      <td>vr</td>\n    </tr>\n  </tbody>\n</table>\n<p>4366 rows × 15 columns</p>\n</div>"
     },
     "metadata": {},
     "execution_count": 45
    }
   ],
   "source": [
    "tags_df"
   ]
  },
  {
   "cell_type": "code",
   "execution_count": null,
   "metadata": {},
   "outputs": [],
   "source": []
  }
 ]
}