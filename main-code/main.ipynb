{
 "metadata": {
  "language_info": {
   "codemirror_mode": {
    "name": "ipython",
    "version": 3
   },
   "file_extension": ".py",
   "mimetype": "text/x-python",
   "name": "python",
   "nbconvert_exporter": "python",
   "pygments_lexer": "ipython3",
   "version": "3.8.8"
  },
  "orig_nbformat": 4,
  "kernelspec": {
   "name": "python3",
   "display_name": "Python 3.8.8 64-bit ('base': conda)"
  },
  "interpreter": {
   "hash": "05b3b62c7789db94d00c942f2499dd9a2876ea971fd9b7cf25c50892de6c631c"
  }
 },
 "nbformat": 4,
 "nbformat_minor": 2,
 "cells": [
  {
   "cell_type": "code",
   "execution_count": 125,
   "metadata": {},
   "outputs": [],
   "source": [
    "from api_key import api_key\n",
    "from apiclient.discovery import build\n",
    "import json\n",
    "from functions import *\n",
    "import pandas as pd"
   ]
  },
  {
   "source": [
    "-----------------"
   ],
   "cell_type": "markdown",
   "metadata": {}
  },
  {
   "cell_type": "code",
   "execution_count": 2,
   "metadata": {},
   "outputs": [],
   "source": [
    "#getting the uploads id to access all videos on the channel\n",
    "res = youtube.channels().list(id=\"UC8butISFwT-Wl7EV0hUK0BQ\", part=\"contentDetails\").execute()"
   ]
  },
  {
   "cell_type": "code",
   "execution_count": 3,
   "metadata": {},
   "outputs": [
    {
     "output_type": "execute_result",
     "data": {
      "text/plain": [
       "{'kind': 'youtube#channelListResponse',\n",
       " 'etag': 'yUhIF6ECGuAlpECvfUMx3e7g45I',\n",
       " 'pageInfo': {'totalResults': 1, 'resultsPerPage': 5},\n",
       " 'items': [{'kind': 'youtube#channel',\n",
       "   'etag': '8hPum3ONH4ZozhiDBtQDwVExHKA',\n",
       "   'id': 'UC8butISFwT-Wl7EV0hUK0BQ',\n",
       "   'contentDetails': {'relatedPlaylists': {'likes': '',\n",
       "     'favorites': '',\n",
       "     'uploads': 'UU8butISFwT-Wl7EV0hUK0BQ'}}}]}"
      ]
     },
     "metadata": {},
     "execution_count": 3
    }
   ],
   "source": [
    "res"
   ]
  },
  {
   "cell_type": "code",
   "execution_count": 4,
   "metadata": {},
   "outputs": [
    {
     "output_type": "execute_result",
     "data": {
      "text/plain": [
       "'UU8butISFwT-Wl7EV0hUK0BQ'"
      ]
     },
     "metadata": {},
     "execution_count": 4
    }
   ],
   "source": [
    "#saving the uploads id in a variable\n",
    "uploads_id = res[\"items\"][0][\"contentDetails\"][\"relatedPlaylists\"][\"uploads\"]\n",
    "uploads_id"
   ]
  },
  {
   "cell_type": "code",
   "execution_count": 5,
   "metadata": {},
   "outputs": [],
   "source": [
    "res2 = youtube.playlistItems().list(playlistId=uploads_id, part=\"snippet\", maxResults=25).execute()"
   ]
  },
  {
   "cell_type": "code",
   "execution_count": 6,
   "metadata": {},
   "outputs": [
    {
     "output_type": "execute_result",
     "data": {
      "text/plain": [
       "'CBkQAA'"
      ]
     },
     "metadata": {},
     "execution_count": 6
    }
   ],
   "source": [
    "res2[\"nextPageToken\"]"
   ]
  },
  {
   "cell_type": "code",
   "execution_count": null,
   "metadata": {},
   "outputs": [],
   "source": [
    "#function to get all videos in functions file"
   ]
  },
  {
   "cell_type": "code",
   "execution_count": 7,
   "metadata": {},
   "outputs": [],
   "source": [
    "#getting all the videos from the channel via the function\n",
    "videos = get_all_videos(\"UC8butISFwT-Wl7EV0hUK0BQ\")"
   ]
  },
  {
   "cell_type": "code",
   "execution_count": 8,
   "metadata": {},
   "outputs": [
    {
     "output_type": "execute_result",
     "data": {
      "text/plain": [
       "1166"
      ]
     },
     "metadata": {},
     "execution_count": 8
    }
   ],
   "source": [
    "len(videos)"
   ]
  },
  {
   "cell_type": "code",
   "execution_count": 9,
   "metadata": {},
   "outputs": [
    {
     "output_type": "execute_result",
     "data": {
      "text/plain": [
       "list"
      ]
     },
     "metadata": {},
     "execution_count": 9
    }
   ],
   "source": [
    "type(videos)"
   ]
  },
  {
   "cell_type": "code",
   "execution_count": null,
   "metadata": {},
   "outputs": [],
   "source": [
    "#function to get video information by video id in functions file"
   ]
  },
  {
   "cell_type": "code",
   "execution_count": 10,
   "metadata": {},
   "outputs": [],
   "source": [
    "video_id = videos[0][\"snippet\"][\"resourceId\"][\"videoId\"]"
   ]
  },
  {
   "cell_type": "code",
   "execution_count": 11,
   "metadata": {},
   "outputs": [
    {
     "output_type": "execute_result",
     "data": {
      "text/plain": [
       "'KsoUiNv1SZA'"
      ]
     },
     "metadata": {},
     "execution_count": 11
    }
   ],
   "source": [
    "video_id"
   ]
  },
  {
   "cell_type": "code",
   "execution_count": 12,
   "metadata": {},
   "outputs": [],
   "source": [
    "#getting video information for one video via id\n",
    "video_information = get_video_information(video_id)"
   ]
  },
  {
   "cell_type": "code",
   "execution_count": 13,
   "metadata": {},
   "outputs": [
    {
     "output_type": "execute_result",
     "data": {
      "text/plain": [
       "dict"
      ]
     },
     "metadata": {},
     "execution_count": 13
    }
   ],
   "source": [
    "type(video_information)"
   ]
  },
  {
   "cell_type": "code",
   "execution_count": 16,
   "metadata": {},
   "outputs": [],
   "source": [
    "# getting the information of all videos and saving them in a list\n",
    "all_videos_information = []\n",
    "for video in range(len(videos)):\n",
    "    video_id = videos[video][\"snippet\"][\"resourceId\"][\"videoId\"]\n",
    "    video_information = get_video_information(video_id)\n",
    "    all_videos_information.append(video_information)"
   ]
  },
  {
   "cell_type": "code",
   "execution_count": 17,
   "metadata": {},
   "outputs": [
    {
     "output_type": "execute_result",
     "data": {
      "text/plain": [
       "1166"
      ]
     },
     "metadata": {},
     "execution_count": 17
    }
   ],
   "source": [
    "len(all_videos_information)"
   ]
  },
  {
   "cell_type": "code",
   "execution_count": 18,
   "metadata": {},
   "outputs": [
    {
     "output_type": "execute_result",
     "data": {
      "text/plain": [
       "{'kind': 'youtube#videoListResponse',\n",
       " 'etag': 'u8R8UfTLyQaVGux6UcTD5P6WiUk',\n",
       " 'items': [{'kind': 'youtube#video',\n",
       "   'etag': 'pqxp1za2PivZpl5FIfyZ9AKuy6I',\n",
       "   'id': 'QpR4QEv5Urk',\n",
       "   'snippet': {'publishedAt': '2021-01-02T22:52:29Z',\n",
       "    'channelId': 'UC8butISFwT-Wl7EV0hUK0BQ',\n",
       "    'title': 'Image Generation using GANs | Deep Learning with PyTorch: Zero to GANs | Part 6 of 6',\n",
       "    'description': '“Deep Learning with PyTorch: Zero to GANs” is a beginner-friendly online course offering a practical and coding-focused introduction to deep learning using the PyTorch framework. Learn more and register for a certificate of accomplishment here: http://zerotogans.com\\n\\nWatch the entire series here: https://www.youtube.com/playlist?list=PLWKjhJtqVAbm5dir5TLEy2aZQMG7cHEZp\\n\\nCode and Resources: \\n🔗 Generative Adversarial Networks in PyTorch: https://jovian.ai/aakashns/06b-anime-dcgan\\n🔗 Generative Adversarial Networks using MNSIT: https://jovian.ai/aakashns/06-mnist-gan\\n🔗 Tensorflow 2.1 port of Pytorch - Zero to GANs: https://jovian.ai/kartik.godawat/collections/tf-zero-to-gan\\n🔗 Discussion forum: https://jovian.ai/forum/t/lecture-6-image-generation-using-generative-adversarial-networks-gans/13775\\n\\nTopics covered in this video:\\n* Generative modeling and applications of GANs\\n* Training generator and discriminator networks\\n* Generating fake digits & anime faces with GANs\\n\\nThis course is taught by Aakash N S, co-founder & CEO of Jovian - a data science platform and global community.\\n- YouTube: https://youtube.com/jovianml\\n- Twitter: https://twitter.com/jovianml \\n- LinkedIn: https://linkedin.com/company/jovianml\\n\\n--\\n\\nLearn to code for free and get a developer job: https://www.freecodecamp.org\\n\\nRead hundreds of articles on programming: https://freecodecamp.org/news\\n\\nAnd subscribe for new videos on technology every day: https://youtube.com/subscription_center?add_user=freecodecamp',\n",
       "    'thumbnails': {'default': {'url': 'https://i.ytimg.com/vi/QpR4QEv5Urk/default.jpg',\n",
       "      'width': 120,\n",
       "      'height': 90},\n",
       "     'medium': {'url': 'https://i.ytimg.com/vi/QpR4QEv5Urk/mqdefault.jpg',\n",
       "      'width': 320,\n",
       "      'height': 180},\n",
       "     'high': {'url': 'https://i.ytimg.com/vi/QpR4QEv5Urk/hqdefault.jpg',\n",
       "      'width': 480,\n",
       "      'height': 360},\n",
       "     'standard': {'url': 'https://i.ytimg.com/vi/QpR4QEv5Urk/sddefault.jpg',\n",
       "      'width': 640,\n",
       "      'height': 480},\n",
       "     'maxres': {'url': 'https://i.ytimg.com/vi/QpR4QEv5Urk/maxresdefault.jpg',\n",
       "      'width': 1280,\n",
       "      'height': 720}},\n",
       "    'channelTitle': 'freeCodeCamp.org',\n",
       "    'categoryId': '27',\n",
       "    'liveBroadcastContent': 'none',\n",
       "    'defaultLanguage': 'en',\n",
       "    'localized': {'title': 'Image Generation using GANs | Deep Learning with PyTorch: Zero to GANs | Part 6 of 6',\n",
       "     'description': '“Deep Learning with PyTorch: Zero to GANs” is a beginner-friendly online course offering a practical and coding-focused introduction to deep learning using the PyTorch framework. Learn more and register for a certificate of accomplishment here: http://zerotogans.com\\n\\nWatch the entire series here: https://www.youtube.com/playlist?list=PLWKjhJtqVAbm5dir5TLEy2aZQMG7cHEZp\\n\\nCode and Resources: \\n🔗 Generative Adversarial Networks in PyTorch: https://jovian.ai/aakashns/06b-anime-dcgan\\n🔗 Generative Adversarial Networks using MNSIT: https://jovian.ai/aakashns/06-mnist-gan\\n🔗 Tensorflow 2.1 port of Pytorch - Zero to GANs: https://jovian.ai/kartik.godawat/collections/tf-zero-to-gan\\n🔗 Discussion forum: https://jovian.ai/forum/t/lecture-6-image-generation-using-generative-adversarial-networks-gans/13775\\n\\nTopics covered in this video:\\n* Generative modeling and applications of GANs\\n* Training generator and discriminator networks\\n* Generating fake digits & anime faces with GANs\\n\\nThis course is taught by Aakash N S, co-founder & CEO of Jovian - a data science platform and global community.\\n- YouTube: https://youtube.com/jovianml\\n- Twitter: https://twitter.com/jovianml \\n- LinkedIn: https://linkedin.com/company/jovianml\\n\\n--\\n\\nLearn to code for free and get a developer job: https://www.freecodecamp.org\\n\\nRead hundreds of articles on programming: https://freecodecamp.org/news\\n\\nAnd subscribe for new videos on technology every day: https://youtube.com/subscription_center?add_user=freecodecamp'},\n",
       "    'defaultAudioLanguage': 'en'},\n",
       "   'contentDetails': {'duration': 'PT2H29M15S',\n",
       "    'dimension': '2d',\n",
       "    'definition': 'hd',\n",
       "    'caption': 'false',\n",
       "    'licensedContent': False,\n",
       "    'contentRating': {},\n",
       "    'projection': 'rectangular'},\n",
       "   'statistics': {'viewCount': '34583',\n",
       "    'likeCount': '1155',\n",
       "    'dislikeCount': '16',\n",
       "    'favoriteCount': '0',\n",
       "    'commentCount': '16'}}],\n",
       " 'pageInfo': {'totalResults': 1, 'resultsPerPage': 1}}"
      ]
     },
     "metadata": {},
     "execution_count": 18
    }
   ],
   "source": [
    "all_videos_information[77]"
   ]
  },
  {
   "cell_type": "code",
   "execution_count": 19,
   "metadata": {},
   "outputs": [
    {
     "output_type": "execute_result",
     "data": {
      "text/plain": [
       "{'viewCount': '9503',\n",
       " 'likeCount': '691',\n",
       " 'dislikeCount': '12',\n",
       " 'favoriteCount': '0',\n",
       " 'commentCount': '53'}"
      ]
     },
     "metadata": {},
     "execution_count": 19
    }
   ],
   "source": [
    "all_videos_information[0][\"items\"][0][\"statistics\"]"
   ]
  },
  {
   "cell_type": "code",
   "execution_count": 20,
   "metadata": {},
   "outputs": [
    {
     "output_type": "execute_result",
     "data": {
      "text/plain": [
       "'2021-07-07T13:00:17Z'"
      ]
     },
     "metadata": {},
     "execution_count": 20
    }
   ],
   "source": [
    "all_videos_information[0][\"items\"][0][\"snippet\"][\"publishedAt\"]"
   ]
  },
  {
   "cell_type": "code",
   "execution_count": 21,
   "metadata": {},
   "outputs": [
    {
     "output_type": "execute_result",
     "data": {
      "text/plain": [
       "'What is Binary Search?'"
      ]
     },
     "metadata": {},
     "execution_count": 21
    }
   ],
   "source": [
    "all_videos_information[0][\"items\"][0][\"snippet\"][\"title\"]"
   ]
  },
  {
   "cell_type": "code",
   "execution_count": 22,
   "metadata": {},
   "outputs": [],
   "source": [
    "#getting the statistics part for each video into a dictionary\n",
    "video_statistics = {}\n",
    "for i in range(len(all_videos_information)):\n",
    "    statistics = all_videos_information[i][\"items\"][0][\"statistics\"]\n",
    "    video_statistics[i] = statistics"
   ]
  },
  {
   "cell_type": "code",
   "execution_count": 24,
   "metadata": {},
   "outputs": [],
   "source": [
    "#getting the date for each video\n",
    "video_publication_date = {}\n",
    "for i in range(len(all_videos_information)):\n",
    "    publication_date = all_videos_information[i][\"items\"][0][\"snippet\"][\"publishedAt\"]\n",
    "    video_publication_date[i] = publication_date"
   ]
  },
  {
   "cell_type": "code",
   "execution_count": 26,
   "metadata": {},
   "outputs": [],
   "source": [
    "#getting the video titles for each video\n",
    "video_titles = {}\n",
    "for i in range(len(all_videos_information)):\n",
    "    title = all_videos_information[i][\"items\"][0][\"snippet\"][\"title\"]\n",
    "    video_titles[i] = title"
   ]
  },
  {
   "cell_type": "code",
   "execution_count": 30,
   "metadata": {},
   "outputs": [
    {
     "output_type": "execute_result",
     "data": {
      "text/plain": [
       "{'viewCount': '9503',\n",
       " 'likeCount': '691',\n",
       " 'dislikeCount': '12',\n",
       " 'favoriteCount': '0',\n",
       " 'commentCount': '53'}"
      ]
     },
     "metadata": {},
     "execution_count": 30
    }
   ],
   "source": [
    "video_statistics[0]"
   ]
  },
  {
   "cell_type": "code",
   "execution_count": 141,
   "metadata": {},
   "outputs": [],
   "source": [
    "df_test = pd.DataFrame(video_statistics)\n",
    "video_statistics_df = df_test.transpose()"
   ]
  },
  {
   "cell_type": "code",
   "execution_count": 166,
   "metadata": {},
   "outputs": [
    {
     "output_type": "execute_result",
     "data": {
      "text/plain": [
       "     viewCount likeCount dislikeCount favoriteCount commentCount\n",
       "0         9503       691           12             0           53\n",
       "1        28791      2040           18             0          127\n",
       "2       108911      6013           57             0          222\n",
       "3        25856      1006           18             0           65\n",
       "4        16466       642           10             0           31\n",
       "...        ...       ...          ...           ...          ...\n",
       "1161     34375       NaN          NaN             0           26\n",
       "1162     42476       NaN          NaN             0           24\n",
       "1163     39132       NaN          NaN             0            7\n",
       "1164     43411       NaN          NaN             0            9\n",
       "1165    101252       NaN          NaN             0           28\n",
       "\n",
       "[1166 rows x 5 columns]"
      ],
      "text/html": "<div>\n<style scoped>\n    .dataframe tbody tr th:only-of-type {\n        vertical-align: middle;\n    }\n\n    .dataframe tbody tr th {\n        vertical-align: top;\n    }\n\n    .dataframe thead th {\n        text-align: right;\n    }\n</style>\n<table border=\"1\" class=\"dataframe\">\n  <thead>\n    <tr style=\"text-align: right;\">\n      <th></th>\n      <th>viewCount</th>\n      <th>likeCount</th>\n      <th>dislikeCount</th>\n      <th>favoriteCount</th>\n      <th>commentCount</th>\n    </tr>\n  </thead>\n  <tbody>\n    <tr>\n      <th>0</th>\n      <td>9503</td>\n      <td>691</td>\n      <td>12</td>\n      <td>0</td>\n      <td>53</td>\n    </tr>\n    <tr>\n      <th>1</th>\n      <td>28791</td>\n      <td>2040</td>\n      <td>18</td>\n      <td>0</td>\n      <td>127</td>\n    </tr>\n    <tr>\n      <th>2</th>\n      <td>108911</td>\n      <td>6013</td>\n      <td>57</td>\n      <td>0</td>\n      <td>222</td>\n    </tr>\n    <tr>\n      <th>3</th>\n      <td>25856</td>\n      <td>1006</td>\n      <td>18</td>\n      <td>0</td>\n      <td>65</td>\n    </tr>\n    <tr>\n      <th>4</th>\n      <td>16466</td>\n      <td>642</td>\n      <td>10</td>\n      <td>0</td>\n      <td>31</td>\n    </tr>\n    <tr>\n      <th>...</th>\n      <td>...</td>\n      <td>...</td>\n      <td>...</td>\n      <td>...</td>\n      <td>...</td>\n    </tr>\n    <tr>\n      <th>1161</th>\n      <td>34375</td>\n      <td>NaN</td>\n      <td>NaN</td>\n      <td>0</td>\n      <td>26</td>\n    </tr>\n    <tr>\n      <th>1162</th>\n      <td>42476</td>\n      <td>NaN</td>\n      <td>NaN</td>\n      <td>0</td>\n      <td>24</td>\n    </tr>\n    <tr>\n      <th>1163</th>\n      <td>39132</td>\n      <td>NaN</td>\n      <td>NaN</td>\n      <td>0</td>\n      <td>7</td>\n    </tr>\n    <tr>\n      <th>1164</th>\n      <td>43411</td>\n      <td>NaN</td>\n      <td>NaN</td>\n      <td>0</td>\n      <td>9</td>\n    </tr>\n    <tr>\n      <th>1165</th>\n      <td>101252</td>\n      <td>NaN</td>\n      <td>NaN</td>\n      <td>0</td>\n      <td>28</td>\n    </tr>\n  </tbody>\n</table>\n<p>1166 rows × 5 columns</p>\n</div>"
     },
     "metadata": {},
     "execution_count": 166
    }
   ],
   "source": [
    "video_statistics_df"
   ]
  },
  {
   "cell_type": "code",
   "execution_count": 165,
   "metadata": {},
   "outputs": [],
   "source": [
    "series = pd.Series(video_publication_date)"
   ]
  },
  {
   "cell_type": "code",
   "execution_count": 164,
   "metadata": {},
   "outputs": [],
   "source": [
    "publication_date_df = series.to_frame(name=\"publication_date\")"
   ]
  },
  {
   "cell_type": "code",
   "execution_count": 167,
   "metadata": {},
   "outputs": [
    {
     "output_type": "execute_result",
     "data": {
      "text/plain": [
       "pandas.core.frame.DataFrame"
      ]
     },
     "metadata": {},
     "execution_count": 167
    }
   ],
   "source": [
    "publication_date_df"
   ]
  },
  {
   "cell_type": "code",
   "execution_count": 161,
   "metadata": {},
   "outputs": [],
   "source": [
    "series2 = pd.Series(video_titles)"
   ]
  },
  {
   "cell_type": "code",
   "execution_count": 162,
   "metadata": {},
   "outputs": [],
   "source": [
    "titles_df = series2.to_frame(name=\"title\")"
   ]
  },
  {
   "cell_type": "code",
   "execution_count": 174,
   "metadata": {},
   "outputs": [
    {
     "output_type": "execute_result",
     "data": {
      "text/plain": [
       "                                                  title\n",
       "0                                What is Binary Search?\n",
       "1     Certified Information Security Professional (C...\n",
       "2     Python Backend Web Development Course (with Dj...\n",
       "3                             React Router Crash Course\n",
       "4     Microsoft Security Compliance and Identity (SC...\n",
       "...                                                 ...\n",
       "1161        Computer Basics 5: How To Measure Data Size\n",
       "1162        Computer Basics 4: Decoding a Binary Number\n",
       "1163            Computer Basics 3: Intro to Binary Code\n",
       "1164          Computer Basics 2: More Computer Hardware\n",
       "1165  Computer Basics 1: The 4 Basic Parts of a Comp...\n",
       "\n",
       "[1166 rows x 1 columns]"
      ],
      "text/html": "<div>\n<style scoped>\n    .dataframe tbody tr th:only-of-type {\n        vertical-align: middle;\n    }\n\n    .dataframe tbody tr th {\n        vertical-align: top;\n    }\n\n    .dataframe thead th {\n        text-align: right;\n    }\n</style>\n<table border=\"1\" class=\"dataframe\">\n  <thead>\n    <tr style=\"text-align: right;\">\n      <th></th>\n      <th>title</th>\n    </tr>\n  </thead>\n  <tbody>\n    <tr>\n      <th>0</th>\n      <td>What is Binary Search?</td>\n    </tr>\n    <tr>\n      <th>1</th>\n      <td>Certified Information Security Professional (C...</td>\n    </tr>\n    <tr>\n      <th>2</th>\n      <td>Python Backend Web Development Course (with Dj...</td>\n    </tr>\n    <tr>\n      <th>3</th>\n      <td>React Router Crash Course</td>\n    </tr>\n    <tr>\n      <th>4</th>\n      <td>Microsoft Security Compliance and Identity (SC...</td>\n    </tr>\n    <tr>\n      <th>...</th>\n      <td>...</td>\n    </tr>\n    <tr>\n      <th>1161</th>\n      <td>Computer Basics 5: How To Measure Data Size</td>\n    </tr>\n    <tr>\n      <th>1162</th>\n      <td>Computer Basics 4: Decoding a Binary Number</td>\n    </tr>\n    <tr>\n      <th>1163</th>\n      <td>Computer Basics 3: Intro to Binary Code</td>\n    </tr>\n    <tr>\n      <th>1164</th>\n      <td>Computer Basics 2: More Computer Hardware</td>\n    </tr>\n    <tr>\n      <th>1165</th>\n      <td>Computer Basics 1: The 4 Basic Parts of a Comp...</td>\n    </tr>\n  </tbody>\n</table>\n<p>1166 rows × 1 columns</p>\n</div>"
     },
     "metadata": {},
     "execution_count": 174
    }
   ],
   "source": [
    "titles_df"
   ]
  },
  {
   "cell_type": "code",
   "execution_count": 177,
   "metadata": {},
   "outputs": [
    {
     "output_type": "execute_result",
     "data": {
      "text/plain": [
       "                                                  title      publication_date  \\\n",
       "0                                What is Binary Search?  2021-07-07T13:00:17Z   \n",
       "1     Certified Information Security Professional (C...  2021-07-06T13:00:08Z   \n",
       "2     Python Backend Web Development Course (with Dj...  2021-07-01T16:51:03Z   \n",
       "3                             React Router Crash Course  2021-06-30T13:59:48Z   \n",
       "4     Microsoft Security Compliance and Identity (SC...  2021-06-29T13:22:19Z   \n",
       "...                                                 ...                   ...   \n",
       "1161        Computer Basics 5: How To Measure Data Size  2015-07-17T08:31:23Z   \n",
       "1162        Computer Basics 4: Decoding a Binary Number  2015-07-17T08:31:20Z   \n",
       "1163            Computer Basics 3: Intro to Binary Code  2015-07-17T08:31:17Z   \n",
       "1164          Computer Basics 2: More Computer Hardware  2015-07-17T08:31:14Z   \n",
       "1165  Computer Basics 1: The 4 Basic Parts of a Comp...  2015-07-17T08:31:10Z   \n",
       "\n",
       "     viewCount likeCount dislikeCount favoriteCount commentCount  \n",
       "0         9503       691           12             0           53  \n",
       "1        28791      2040           18             0          127  \n",
       "2       108911      6013           57             0          222  \n",
       "3        25856      1006           18             0           65  \n",
       "4        16466       642           10             0           31  \n",
       "...        ...       ...          ...           ...          ...  \n",
       "1161     34375       NaN          NaN             0           26  \n",
       "1162     42476       NaN          NaN             0           24  \n",
       "1163     39132       NaN          NaN             0            7  \n",
       "1164     43411       NaN          NaN             0            9  \n",
       "1165    101252       NaN          NaN             0           28  \n",
       "\n",
       "[1166 rows x 7 columns]"
      ],
      "text/html": "<div>\n<style scoped>\n    .dataframe tbody tr th:only-of-type {\n        vertical-align: middle;\n    }\n\n    .dataframe tbody tr th {\n        vertical-align: top;\n    }\n\n    .dataframe thead th {\n        text-align: right;\n    }\n</style>\n<table border=\"1\" class=\"dataframe\">\n  <thead>\n    <tr style=\"text-align: right;\">\n      <th></th>\n      <th>title</th>\n      <th>publication_date</th>\n      <th>viewCount</th>\n      <th>likeCount</th>\n      <th>dislikeCount</th>\n      <th>favoriteCount</th>\n      <th>commentCount</th>\n    </tr>\n  </thead>\n  <tbody>\n    <tr>\n      <th>0</th>\n      <td>What is Binary Search?</td>\n      <td>2021-07-07T13:00:17Z</td>\n      <td>9503</td>\n      <td>691</td>\n      <td>12</td>\n      <td>0</td>\n      <td>53</td>\n    </tr>\n    <tr>\n      <th>1</th>\n      <td>Certified Information Security Professional (C...</td>\n      <td>2021-07-06T13:00:08Z</td>\n      <td>28791</td>\n      <td>2040</td>\n      <td>18</td>\n      <td>0</td>\n      <td>127</td>\n    </tr>\n    <tr>\n      <th>2</th>\n      <td>Python Backend Web Development Course (with Dj...</td>\n      <td>2021-07-01T16:51:03Z</td>\n      <td>108911</td>\n      <td>6013</td>\n      <td>57</td>\n      <td>0</td>\n      <td>222</td>\n    </tr>\n    <tr>\n      <th>3</th>\n      <td>React Router Crash Course</td>\n      <td>2021-06-30T13:59:48Z</td>\n      <td>25856</td>\n      <td>1006</td>\n      <td>18</td>\n      <td>0</td>\n      <td>65</td>\n    </tr>\n    <tr>\n      <th>4</th>\n      <td>Microsoft Security Compliance and Identity (SC...</td>\n      <td>2021-06-29T13:22:19Z</td>\n      <td>16466</td>\n      <td>642</td>\n      <td>10</td>\n      <td>0</td>\n      <td>31</td>\n    </tr>\n    <tr>\n      <th>...</th>\n      <td>...</td>\n      <td>...</td>\n      <td>...</td>\n      <td>...</td>\n      <td>...</td>\n      <td>...</td>\n      <td>...</td>\n    </tr>\n    <tr>\n      <th>1161</th>\n      <td>Computer Basics 5: How To Measure Data Size</td>\n      <td>2015-07-17T08:31:23Z</td>\n      <td>34375</td>\n      <td>NaN</td>\n      <td>NaN</td>\n      <td>0</td>\n      <td>26</td>\n    </tr>\n    <tr>\n      <th>1162</th>\n      <td>Computer Basics 4: Decoding a Binary Number</td>\n      <td>2015-07-17T08:31:20Z</td>\n      <td>42476</td>\n      <td>NaN</td>\n      <td>NaN</td>\n      <td>0</td>\n      <td>24</td>\n    </tr>\n    <tr>\n      <th>1163</th>\n      <td>Computer Basics 3: Intro to Binary Code</td>\n      <td>2015-07-17T08:31:17Z</td>\n      <td>39132</td>\n      <td>NaN</td>\n      <td>NaN</td>\n      <td>0</td>\n      <td>7</td>\n    </tr>\n    <tr>\n      <th>1164</th>\n      <td>Computer Basics 2: More Computer Hardware</td>\n      <td>2015-07-17T08:31:14Z</td>\n      <td>43411</td>\n      <td>NaN</td>\n      <td>NaN</td>\n      <td>0</td>\n      <td>9</td>\n    </tr>\n    <tr>\n      <th>1165</th>\n      <td>Computer Basics 1: The 4 Basic Parts of a Comp...</td>\n      <td>2015-07-17T08:31:10Z</td>\n      <td>101252</td>\n      <td>NaN</td>\n      <td>NaN</td>\n      <td>0</td>\n      <td>28</td>\n    </tr>\n  </tbody>\n</table>\n<p>1166 rows × 7 columns</p>\n</div>"
     },
     "metadata": {},
     "execution_count": 177
    }
   ],
   "source": [
    "videos_df = pd.concat([titles_df, publication_date_df, video_statistics_df],axis=1)\n",
    "videos_df"
   ]
  },
  {
   "cell_type": "code",
   "execution_count": null,
   "metadata": {},
   "outputs": [],
   "source": []
  }
 ]
}